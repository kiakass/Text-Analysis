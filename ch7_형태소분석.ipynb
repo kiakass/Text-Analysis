{
  "nbformat": 4,
  "nbformat_minor": 0,
  "metadata": {
    "colab": {
      "name": "ch7.형태소분석.ipynb",
      "provenance": [],
      "authorship_tag": "ABX9TyPAoxZ167Eugs4e+lGtNxeB",
      "include_colab_link": true
    },
    "kernelspec": {
      "name": "python3",
      "display_name": "Python 3"
    },
    "language_info": {
      "name": "python"
    }
  },
  "cells": [
    {
      "cell_type": "markdown",
      "metadata": {
        "id": "view-in-github",
        "colab_type": "text"
      },
      "source": [
        "<a href=\"https://colab.research.google.com/github/kiakass/Text-Analysis/blob/main/ch7_%ED%98%95%ED%83%9C%EC%86%8C%EB%B6%84%EC%84%9D.ipynb\" target=\"_parent\"><img src=\"https://colab.research.google.com/assets/colab-badge.svg\" alt=\"Open In Colab\"/></a>"
      ]
    },
    {
      "cell_type": "markdown",
      "metadata": {
        "id": "eUIQWxsm3GhS"
      },
      "source": [
        "### 데이터 로딩 및 전처리"
      ]
    },
    {
      "cell_type": "code",
      "metadata": {
        "colab": {
          "base_uri": "https://localhost:8080/",
          "height": 104
        },
        "id": "6vV0vFDy21xi",
        "outputId": "30274b5d-f741-488b-e905-5af64f85e6d3"
      },
      "source": [
        "import numpy as np\n",
        "import pandas as pd\n",
        "import time #시간측정\n",
        "import requests\n",
        "\n",
        "#data_load\n",
        "url='https://raw.githubusercontent.com/kiakass/share/master/Naver_opinion.txt'\n",
        "load = requests.get(url)\n",
        "total_lines=load.text.split('\\n')\n",
        "print(load.text[:200])\n",
        "\n",
        "'''upload from pc\n",
        "\n",
        "from google.colab import files\n",
        "#uploaded = files.upload() # 파일 업로드 기능 실행\n",
        "file=open('Naver_opinion.txt','r',encoding='utf-8') #1MB\n",
        "load = file.readlines()\n",
        "file.close()\n",
        "print(load)\n",
        "'''"
      ],
      "execution_count": 73,
      "outputs": [
        {
          "output_type": "stream",
          "text": [
            "휴잭맨의. 매력이 한껏 돋보인 영화입니다.다른 출연자들도 너무 멋지구요.사람은 누구나 소중하며, 현재를 멋지게 사는게 중요하다는 메세지도 있구요.좋았습니다\r\n",
            "정말 인생 최고의 영화!!!! 너무 좋아서 울컥하고 남들 없었음 ㅠ 기립박수 칠뻔!! 강추!\r\n",
            "노래 진짜 쩐다 ㅠㅠㅠ 보는 내내 귀호강 ! 그리고 배우분들 연기 다 너무 좋아서 올해 마무리 영화로 딱인\n"
          ],
          "name": "stdout"
        },
        {
          "output_type": "execute_result",
          "data": {
            "application/vnd.google.colaboratory.intrinsic+json": {
              "type": "string"
            },
            "text/plain": [
              "\"upload from pc\\n\\nfrom google.colab import files\\n#uploaded = files.upload() # 파일 업로드 기능 실행\\nfile=open('Naver_opinion.txt','r',encoding='utf-8') #1MB\\nload = file.readlines()\\nfile.close()\\nprint(load)\\n\""
            ]
          },
          "metadata": {
            "tags": []
          },
          "execution_count": 73
        }
      ]
    },
    {
      "cell_type": "code",
      "metadata": {
        "id": "IiHcm1xC6VNu",
        "colab": {
          "base_uri": "https://localhost:8080/"
        },
        "outputId": "e23a70cc-680f-4053-91c6-dd7f2b5571d0"
      },
      "source": [
        "#개행 문자 제거\n",
        "reply_text=[]\n",
        "for line in total_lines[:200]:\n",
        "    reply_text.append(line[:-1])\n",
        "\n",
        "# 리스트 붙이기\n",
        "my_text=''.join(reply_text)\n",
        "print(type(my_text))\n",
        "print(len(reply_text), len(my_text))"
      ],
      "execution_count": 74,
      "outputs": [
        {
          "output_type": "stream",
          "text": [
            "<class 'str'>\n",
            "200 9134\n"
          ],
          "name": "stdout"
        }
      ]
    },
    {
      "cell_type": "markdown",
      "metadata": {
        "id": "BoiQjQUWN9mR"
      },
      "source": [
        "## koNLPy 패키지 - 여러 모듈 비교"
      ]
    },
    {
      "cell_type": "code",
      "metadata": {
        "colab": {
          "base_uri": "https://localhost:8080/"
        },
        "id": "yBHLAWxo6cPL",
        "outputId": "df2f2869-b523-40a6-ad64-7d8c70cf1e2c"
      },
      "source": [
        "# 꼬꼬마모듈 : 다른 분석기에 비해 분석 시간이 가장 오래 소요됨\n",
        "from konlpy.tag import Kkma\n",
        "kkma = Kkma()\n",
        "start = time.time()\n",
        "print('#### konlpy Kkma')\n",
        "print('구문분석 :',kkma.sentences(my_text)[:10])  # 문장 분석\n",
        "print('명사분석 :',kkma.nouns(my_text)[:10]) # 명사 분석\n",
        "print('형태소-품사',kkma.pos(my_text)[:10]) # 형태소 : 품사 부착\n",
        "end = time.time()\n",
        "print('문장수:',len(reply_text),'문자수:',len(my_text),'소요시간:',end-start)\n",
        "print('\\n')\n",
        "\n",
        "#한나눔모듈 : 결과에 대한 품질이 문장에 따라 차이가 큼(너무 잘게 분석하거나 아예 분석을 못함)\n",
        "from konlpy.tag import Hannanum\n",
        "han = Hannanum()\n",
        "start = time.time()\n",
        "print('#### konlpy Hannanum')\n",
        "print('명사분석 :',han.nouns(my_text)[:10]) # 명사 분석\n",
        "print('형태소분석 : ',han.morphs(my_text)[:10]) # 형태소\n",
        "print('형태소-품사',han.pos(my_text)[:10]) # 형태소 : 품사 부착\n",
        "end = time.time()\n",
        "print('문장수:',len(reply_text),'문자수:',len(my_text),'소요시간:',end-start)\n",
        "print('\\n')\n",
        "\n",
        "# open korean text : 단어 클라우드 분석에 활용하는 경우 가장 적합\n",
        "from konlpy.tag import Okt\n",
        "t = Okt()\n",
        "start = time.time()\n",
        "print('#### konlpy kkma')\n",
        "print('명사분석 :',t.nouns(my_text)[:10]) # 명사분석\n",
        "print('형태소분석 : ',t.morphs(my_text)[:10]) # 형태소 분석\n",
        "print('형태소-품사',t.pos(my_text)[:10]) # 형태소-품사 부착\n",
        "end = time.time()\n",
        "print('문장수:',len(reply_text),'문자수:',len(my_text),'소요시간:',end-start)\n",
        "print('\\n')\n",
        "\n",
        "# komoran ; 자소 분리나 오탈자에 대해서도 어느 정도 분석 품질이 좋음\n",
        "from konlpy.tag import Komoran\n",
        "k = Komoran()\n",
        "start = time.time()\n",
        "print('#### konlpy Komoran')\n",
        "print('명사분석 :',k.nouns(my_text)[:10])\n",
        "print('형태소분석 : ',k.morphs(my_text)[:10])\n",
        "print('형태소-품사',k.pos(my_text)[:10])\n",
        "end = time.time()\n",
        "print('문장수:',len(reply_text),'문자수:',len(my_text),'소요시간:',end-start)\n",
        "print('\\n')"
      ],
      "execution_count": 78,
      "outputs": [
        {
          "output_type": "stream",
          "text": [
            "#### konlpy Kkma\n",
            "구문분석 : ['휴잭맨의. 매력이 한껏 돋보인 영화입니다.', '다른 출연자들도 너무 멋지구요.', '사람은 누구나 소중하며, 현재를 멋지게 사는 게 중요 하다는 메세지도 있구요.', '좋았습니다', '정말 인생 최고의 영화!!!! 너무 좋아서 울컥 하고 남들 없었음 ㅠ 기립 박수 칠 뻔!! 강추! 노래 진짜 쩐다', 'ㅠㅠㅠ 보는 내내 귀 호강 ! 그리고 배우 분들 연기 다 너무 좋아서 올해 마무리 영화로 딱 인 듯합니다', '시작한 지 얼마 안되어서 부터 꿈을 얘기하는데 듣다 보면 눈물이 난다.', '그 꿈이 허황되기 때문일까 쉽게 꿈꿀 수 없는 그 꿈이 아름답기 때문일까.', '생각보다 묵직한 음악으로의 시작이라 좋았고 처음 들어보는 잭 에프론의 목... 좀 뻔한 전개 스토리 이긴 하지만 아주 재밌게 봤고 감동적이었습니다.', '실화 영화인 것을 생각하니 더욱 좋았습니다.']\n",
            "명사분석 : ['휴잭맨', '매력', '영화', '출연자', '사람', '누구', '현재', '중요', '중요하다', '하다']\n",
            "형태소-품사 [('휴잭맨', 'UN'), ('의', 'JKG'), ('.', 'SF'), ('매력', 'NNG'), ('이', 'JKS'), ('한껏', 'MAG'), ('돋보이', 'VV'), ('ㄴ', 'ETD'), ('영화', 'NNG'), ('이', 'VCP')]\n",
            "문장수: 100 문자수: 9134 소요시간: 30.54080867767334\n",
            "\n",
            "\n",
            "#### konlpy Hannanum\n",
            "명사분석 : ['휴잭맨', '매력', '영화', '출연자들', '멋지구요', '사람', '누구', '소중', '현재', '중요']\n",
            "형태소분석 :  ['휴잭맨', '의', '.', '매력', '이', '한껏', '돋보이', 'ㄴ', '영화', '이']\n",
            "형태소-품사 [('휴잭맨', 'N'), ('의', 'J'), ('.', 'S'), ('매력', 'N'), ('이', 'J'), ('한껏', 'M'), ('돋보이', 'P'), ('ㄴ', 'E'), ('영화', 'N'), ('이', 'J')]\n",
            "문장수: 100 문자수: 9134 소요시간: 6.256990671157837\n",
            "\n",
            "\n",
            "#### konlpy kkma\n",
            "명사분석 : ['휴잭맨', '매력', '영화', '다른', '출연자', '사람', '누구', '현재', '메세지', '정말']\n",
            "형태소분석 :  ['휴잭맨', '의', '.', '매력', '이', '한껏', '돋보인', '영화', '입니다', '.']\n",
            "형태소-품사 [('휴잭맨', 'Noun'), ('의', 'Josa'), ('.', 'Punctuation'), ('매력', 'Noun'), ('이', 'Josa'), ('한껏', 'Adverb'), ('돋보인', 'Verb'), ('영화', 'Noun'), ('입니다', 'Adjective'), ('.', 'Punctuation')]\n",
            "문장수: 100 문자수: 9134 소요시간: 2.7279088497161865\n",
            "\n",
            "\n",
            "#### konlpy Komoran\n",
            "명사분석 : ['휴', '잭', '맨', '매력', '영화', '출연자', '사람', '현재', '메세지', '인생']\n",
            "형태소분석 :  ['휴', '잭', '맨', '의', '.', '매력', '이', '한껏', '돋보이', 'ㄴ']\n",
            "형태소-품사 [('휴', 'NNP'), ('잭', 'NNP'), ('맨', 'NNP'), ('의', 'JKG'), ('.', 'SF'), ('매력', 'NNP'), ('이', 'JKS'), ('한껏', 'MAG'), ('돋보이', 'VV'), ('ㄴ', 'ETM')]\n",
            "문장수: 100 문자수: 9134 소요시간: 2.8291256427764893\n",
            "\n",
            "\n"
          ],
          "name": "stdout"
        }
      ]
    },
    {
      "cell_type": "markdown",
      "metadata": {
        "id": "uSoITHffNuDt"
      },
      "source": [
        "### 형태소분석 : koNLPy - Okt 패키지 사용"
      ]
    },
    {
      "cell_type": "code",
      "metadata": {
        "colab": {
          "base_uri": "https://localhost:8080/"
        },
        "id": "hO7Jlqou3Bqz",
        "outputId": "854ffdd2-3d96-4aeb-8fca-33888093b828"
      },
      "source": [
        "########################################################\n",
        "# 형태소분석(koNLPy)\n",
        "'''\n",
        "크롤링한 댓글파일을 불러와서 변수에 저장\n",
        "'''\n",
        "from konlpy.tag import Okt\n",
        "ok_twitter = Okt()\n",
        "\n",
        "#data_load\n",
        "url='https://raw.githubusercontent.com/kiakass/share/master/naver_movie.txt'\n",
        "load = requests.get(url)\n",
        "total_lines=load.text.split('\\n')\n",
        "\n",
        "#개행문자제거\n",
        "reply_text=[]\n",
        "for line in total_lines[:100]:\n",
        "    reply_text.append(line[:-1])\n",
        "\n",
        "# 형태소분석\n",
        "sentences_tag=[]\n",
        "for sentence in reply_text:\n",
        "    morph = ok_twitter.pos(sentence)\n",
        "    sentences_tag.append(morph)\n",
        "    #print('-'*30)\n",
        "\n",
        "# 명사추출\n",
        "for my_sentence in sentences_tag:\n",
        "    for word , tag in my_sentence:\n",
        "        if tag in ['Noun']:\n",
        "            #print(word)\n",
        "            bucket_list.append(word)\n",
        "\n",
        "print(bucket_list[:20])"
      ],
      "execution_count": 80,
      "outputs": [
        {
          "output_type": "stream",
          "text": [
            "['올라프', '편', '요약', '기', '맥힙', '크리스토퍼', '뮤비', '좀', '흠칫', '함', '미래', '보이지', '때', '지금', '일', '해', '나', '개인', '편이', '더']\n"
          ],
          "name": "stdout"
        }
      ]
    },
    {
      "cell_type": "markdown",
      "metadata": {
        "id": "Kw4GqYwoOMZg"
      },
      "source": [
        "### 품사 빈도 Count"
      ]
    },
    {
      "cell_type": "code",
      "metadata": {
        "colab": {
          "base_uri": "https://localhost:8080/"
        },
        "id": "6t31OXAr3EBH",
        "outputId": "45e7e0f8-0373-48fc-edc4-6bdde74de76b"
      },
      "source": [
        "from collections import Counter\n",
        "\n",
        "#각 원소의 출현 횟수를 계산하는 Counter 모듈을 활용한다.\n",
        "counts = Counter( bucket_list)\n",
        "print(counts)\n",
        "print(counts.most_common(20))\n",
        "\n",
        "#명사와 형용사를 모두 추출하고, 빈도 순서대로 상위 50개를 출력해봅시다.\n",
        "bucket_list = []\n",
        "for my_sentence in sentences_tag:\n",
        "    for word , tag in my_sentence:\n",
        "        if tag in ['Noun','Adjective']:\n",
        "            bucket_list.append(word)\n",
        "\n",
        "counts = Counter( bucket_list)\n",
        "print(np.array(counts.most_common(50)).reshape(-1,2))"
      ],
      "execution_count": 77,
      "outputs": [
        {
          "output_type": "stream",
          "text": [
            "Counter({'스토리': 96, '영화': 69, '노래': 69, '엘사': 63, '편': 57, '더': 45, '겨울왕국': 39, '때': 36, '상미': 36, '보고': 30, '느낌': 30, '것': 30, '전편': 27, '올라프': 24, '디즈니': 24, '정말': 24, '개연': 21, '편이': 18, '한번': 18, '장면': 18, '진짜': 18, '역시': 18, '생각': 18, '영상': 18, '건': 18, '음악': 18, '볼': 15, '렛잇고': 15, '이': 15, '감동': 15, '말': 15, '이해': 15, '기대': 15, '전개': 15, '별로': 15, '중간': 15, '좀': 12, '재미': 12, '하나': 12, '최고': 12, '또': 12, '귀': 12, '수': 12, '포인트': 12, '부분': 12, '번': 12, '쿠키': 12, '저': 12, '바다': 12, '곡': 12, '정도': 12, '부족': 12, '아이': 12, '그': 12, '진심': 12, '크리스토퍼': 9, '지금': 9, '마법': 9, '제': 9, '물': 9, '대박': 9, '엄마': 9, '이번': 9, '속편': 9, '스케일': 9, '어른': 9, '치': 9, '임': 9, '크리스토프': 9, '정령': 9, '워': 9, '어어': 9, '평점': 9, '안나': 9, '사랑': 9, '내용': 9, '연출': 9, '그냥': 9, '전작': 9, '조금': 9, '뭔가': 9, '시간': 9, '계속': 9, '끝': 9, '기억': 9, '내': 9, '비교': 9, '요약': 6, '뮤비': 6, '함': 6, '해': 6, '나': 6, '개인': 6, '옷': 6, '울': 6, '과거': 6, '당황': 6, '의': 6, '말타': 6, '도': 6, '때문': 6, '씬': 6, '난': 6, '얼마나': 6, '성인': 6, '애니': 6, '모두': 6, '꼭': 6, '로': 6, '아쉬움': 6, '모습': 6, '결정': 6, '다섯': 6, '소리': 6, '감상': 6, '보람': 6, '취향': 6, '얼음': 6, '추천': 6, '이유': 6, '옆': 6, '갑': 6, '분위기': 6, '감정': 6, '기다림': 6, '아침': 6, '조조': 6, '사람': 6, '비주': 6, '마음': 6, '수가': 6, '뮤지컬': 6, '전혀': 6, '결말': 6, '딸': 6, '개': 6, '짐': 6, '거': 6, '제일': 6, '안': 6, '라면': 6, '이상': 6, '요': 6, '알라딘': 6, '잠': 6, '노잼': 6, '못': 6, '왜케': 6, '크게': 6, '은': 6, '기분': 6, '개그': 6, '이제': 6, '맥': 6, '이건': 6, '기': 3, '맥힙': 3, '흠칫': 3, '미래': 3, '보이지': 3, '일': 3, '의향': 3, '어머니': 3, '긴장': 3, '애기': 3, '뻔': 3, '혹시': 3, '본적': 3, '왜': 3, '순간': 3, '백마': 3, '컨데': 3, '속': 3, '중독': 3, '존잼임': 3, '스포': 3, '메인': 3, '넘버': 3, '정': 3, '하이라이트': 3, '듀엣': 3, '영화관': 3, '가치': 3, '팬': 3, '아동': 3, '용': 3, '다한': 3, '인생': 3, '작': 3, '열풍': 3, '과': 3, '절로': 3, '부모': 3, '통장': 3, '굿': 3, '탈': 3, '미모': 3, '소재': 3, '게': 3, '길': 3, '선택': 3, '뮤직비디오': 3, '인상': 3, '흡사': 3, '광해': 3, '이병헌': 3, '연기자': 3, '요정': 3, '어쩐지': 3, '거북이': 3, '엉덩이': 3, '숨': 3, '아토': 3, '란': 3, '중심': 3, '눈': 3, '모양': 3, '형상': 3, '아빠': 3, '구': 3, '쇼유': 3, '셀프': 3, '나뭇잎': 3, '게일': 3, '미쳣음': 3, '편도': 3, '전': 3, '자체': 3, '바로': 3, '몰입도': 3, '최강': 3, '니': 3, '천만': 3, '아': 3, '널': 3, '눈물': 3, '왈칵': 3, '몽환': 3, '웅장': 3, '자연': 3, '저격': 3, '어둠': 3, '댐': 3, '제대로': 3, '초반': 3, '벌써': 3, '중': 3, '후반': 3, '세월': 3, '유수': 3, '나중': 3, '연기': 3, '완벽': 3, '킬러': 3, '넘사벽': 3, '갠': 3, '원': 3, '전체': 3, '제목': 3, '인': 3, '차라리': 3, '러닝': 3, '진': 3, '영광': 3, '친구': 3, '소름': 3, '개월': 3, '딸내미': 3, '봄': 3, '식': 3, '분계': 3, '갑자기': 3, '대사': 3, '처리': 3, '설명': 3, '지루함': 3, '인물': 3, '공감': 3, '개봉일': 3, '첫날': 3, '역대': 3, '취해': 3, '재': 3, '예매': 3, '웃음': 3, '공': 3, '조만간': 3, '된거': 3, '개입': 3, '차내': 3, '온': 3, '미가': 3, '조련': 3, '압': 3, '라인': 3, '서로': 3, '안고': 3, '그거': 3, '툭하면': 3, '모드': 3, '애': 3, '대신': 3, '쪽': 3, '무엇': 3, '너': 3, '효과': 3, '도마뱀': 3, '인트': 3, '해석': 3, '억지로': 3, '이야기': 3, '의상': 3, '스포일러': 3, '방식': 3, '빨': 3, '힘': 3, '왕족': 3, '두': 3, '능력': 3, '인간': 3, '대치': 3, '다른': 3, '그닥': 3, '화가': 3, '대작': 3, '화': 3, '걸': 3, '의문': 3, '퀴즈': 3, '여기': 3, '당체': 3, '간다': 3, '불의': 3, '소시': 3, '자라': 3, '누가': 3, '역경': 3, '찬': 3, '고뇌': 3, '거듭': 3, '배경': 3, '가을로': 3, '점': 3, '평이': 3, '후': 3, '기본': 3, '가사': 3, '매칭': 3, '마': 3, '어딘가': 3, '이하임': 3, '확': 3, '드레스': 3, '가슴': 3, '손': 3, '극장': 3, '자신': 3, '보': 3, '눈대중': 3, '무조건': 3, '캐릭터': 3, '설득': 3, '동기': 3, '플롯': 3, '이데올로기': 3, '주입': 3, '자주': 3, '신물': 3, '분': 3, '죽': 3, '또한': 3, '남지': 3, '다른사람': 3, '줄': 3, '나라': 3, '존폐': 3, '위기': 3, '프로포즈': 3, '걱정': 3, '뭐': 3, '노래방': 3, '배경화면': 3, '임팩트': 3, '어': 3, '두운': 3, '깜짝': 3, '애니메이션': 3, '케이스': 3, '드래곤': 3, '타고': 3, '모': 3, '땐': 3, '워낙': 3, '퀄리티': 3, '배경음악': 3, '황홀': 3, '햇': 3, '슴': 3, '듯': 3, '하단': 3, '어거지': 3, '요소': 3, '사실': 3, '억지': 3, '미안': 3, '요즘': 3, '실사': 3, '제작': 3, '미로': 3, '승부': 3, '창의력': 3, '우선': 3, '집중': 3, '어려움': 3, '편의': 3, '바': 3, '침하': 3, '짬': 3, '마구': 3, '보기': 3, '무거': 3, '움': 3, '부': 3, '명작': 3, '답': 3, '대가': 3, '커서': 3, '밍숭': 3, '맛': 3, '그래픽': 3, '세번': 3, '돈': 3, '최고다': 3, '베댓': 3, '후기': 3, '방금': 3, '한참': 3, '가을': 3, '풍경': 3, '위주': 3, '고': 3, '여러분': 3, '고민': 3, '관': 3, '땅': 3, '후회': 3, '얼': 3, '볼거리': 3, '뮤직': 3, '파트': 3, '코믹': 3, '코드': 3, '파도': 3, '아오키지': 3, '살': 3, '우리': 3, '압도': 3, '쌩뚱맞': 3, '바람': 3})\n",
            "[('스토리', 96), ('영화', 69), ('노래', 69), ('엘사', 63), ('편', 57), ('더', 45), ('겨울왕국', 39), ('때', 36), ('상미', 36), ('보고', 30), ('느낌', 30), ('것', 30), ('전편', 27), ('올라프', 24), ('디즈니', 24), ('정말', 24), ('개연', 21), ('편이', 18), ('한번', 18), ('장면', 18)]\n",
            "[['스토리' '32']\n",
            " ['영화' '23']\n",
            " ['노래' '23']\n",
            " ['엘사' '21']\n",
            " ['편' '19']\n",
            " ['더' '15']\n",
            " ['겨울왕국' '13']\n",
            " ['때' '12']\n",
            " ['상미' '12']\n",
            " ['보고' '10']\n",
            " ['느낌' '10']\n",
            " ['것' '10']\n",
            " ['입니다' '9']\n",
            " ['전편' '9']\n",
            " ['올라프' '8']\n",
            " ['디즈니' '8']\n",
            " ['정말' '8']\n",
            " ['개연' '7']\n",
            " ['편이' '6']\n",
            " ['한번' '6']\n",
            " ['장면' '6']\n",
            " ['진짜' '6']\n",
            " ['역시' '6']\n",
            " ['생각' '6']\n",
            " ['영상' '6']\n",
            " ['건' '6']\n",
            " ['음악' '6']\n",
            " ['볼' '5']\n",
            " ['렛잇고' '5']\n",
            " ['이' '5']\n",
            " ['감동' '5']\n",
            " ['말' '5']\n",
            " ['같아요' '5']\n",
            " ['없고' '5']\n",
            " ['없음' '5']\n",
            " ['이해' '5']\n",
            " ['기대' '5']\n",
            " ['전개' '5']\n",
            " ['솔직히' '5']\n",
            " ['별로' '5']\n",
            " ['중간' '5']\n",
            " ['좀' '4']\n",
            " ['재미' '4']\n",
            " ['하나' '4']\n",
            " ['최고' '4']\n",
            " ['또' '4']\n",
            " ['귀' '4']\n",
            " ['수' '4']\n",
            " ['포인트' '4']\n",
            " ['부분' '4']]\n"
          ],
          "name": "stdout"
        }
      ]
    },
    {
      "cell_type": "code",
      "metadata": {
        "id": "htEV05ymKM1K"
      },
      "source": [
        ""
      ],
      "execution_count": null,
      "outputs": []
    }
  ]
}