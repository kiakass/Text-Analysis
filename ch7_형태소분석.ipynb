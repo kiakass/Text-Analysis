{
  "nbformat": 4,
  "nbformat_minor": 0,
  "metadata": {
    "colab": {
      "name": "ch7.형태소분석.ipynb",
      "provenance": [],
      "authorship_tag": "ABX9TyNbygawreP/jASfTp2avxFn",
      "include_colab_link": true
    },
    "kernelspec": {
      "name": "python3",
      "display_name": "Python 3"
    },
    "language_info": {
      "name": "python"
    }
  },
  "cells": [
    {
      "cell_type": "markdown",
      "metadata": {
        "id": "view-in-github",
        "colab_type": "text"
      },
      "source": [
        "<a href=\"https://colab.research.google.com/github/kiakass/Text-Analysis/blob/main/ch7_%ED%98%95%ED%83%9C%EC%86%8C%EB%B6%84%EC%84%9D.ipynb\" target=\"_parent\"><img src=\"https://colab.research.google.com/assets/colab-badge.svg\" alt=\"Open In Colab\"/></a>"
      ]
    },
    {
      "cell_type": "markdown",
      "metadata": {
        "id": "eUIQWxsm3GhS"
      },
      "source": [
        "### 데이터 로딩 및 전처리"
      ]
    },
    {
      "cell_type": "code",
      "metadata": {
        "colab": {
          "base_uri": "https://localhost:8080/",
          "height": 104
        },
        "id": "6vV0vFDy21xi",
        "outputId": "30274b5d-f741-488b-e905-5af64f85e6d3"
      },
      "source": [
        "import numpy as np\n",
        "import pandas as pd\n",
        "import time #시간측정\n",
        "import requests\n",
        "\n",
        "#data_load\n",
        "url='https://raw.githubusercontent.com/kiakass/share/master/Naver_opinion.txt'\n",
        "load = requests.get(url)\n",
        "total_lines=load.text.split('\\n')\n",
        "print(load.text[:200])\n",
        "\n",
        "'''upload from pc\n",
        "\n",
        "from google.colab import files\n",
        "#uploaded = files.upload() # 파일 업로드 기능 실행\n",
        "file=open('Naver_opinion.txt','r',encoding='utf-8') #1MB\n",
        "load = file.readlines()\n",
        "file.close()\n",
        "print(load)\n",
        "'''"
      ],
      "execution_count": 73,
      "outputs": [
        {
          "output_type": "stream",
          "text": [
            "휴잭맨의. 매력이 한껏 돋보인 영화입니다.다른 출연자들도 너무 멋지구요.사람은 누구나 소중하며, 현재를 멋지게 사는게 중요하다는 메세지도 있구요.좋았습니다\r\n",
            "정말 인생 최고의 영화!!!! 너무 좋아서 울컥하고 남들 없었음 ㅠ 기립박수 칠뻔!! 강추!\r\n",
            "노래 진짜 쩐다 ㅠㅠㅠ 보는 내내 귀호강 ! 그리고 배우분들 연기 다 너무 좋아서 올해 마무리 영화로 딱인\n"
          ],
          "name": "stdout"
        },
        {
          "output_type": "execute_result",
          "data": {
            "application/vnd.google.colaboratory.intrinsic+json": {
              "type": "string"
            },
            "text/plain": [
              "\"upload from pc\\n\\nfrom google.colab import files\\n#uploaded = files.upload() # 파일 업로드 기능 실행\\nfile=open('Naver_opinion.txt','r',encoding='utf-8') #1MB\\nload = file.readlines()\\nfile.close()\\nprint(load)\\n\""
            ]
          },
          "metadata": {
            "tags": []
          },
          "execution_count": 73
        }
      ]
    },
    {
      "cell_type": "code",
      "metadata": {
        "id": "IiHcm1xC6VNu",
        "colab": {
          "base_uri": "https://localhost:8080/"
        },
        "outputId": "e23a70cc-680f-4053-91c6-dd7f2b5571d0"
      },
      "source": [
        "#개행 문자 제거\n",
        "reply_text=[]\n",
        "for line in total_lines[:200]:\n",
        "    reply_text.append(line[:-1])\n",
        "\n",
        "# 리스트 붙이기\n",
        "my_text=''.join(reply_text)\n",
        "print(type(my_text))\n",
        "print(len(reply_text), len(my_text))"
      ],
      "execution_count": 74,
      "outputs": [
        {
          "output_type": "stream",
          "text": [
            "<class 'str'>\n",
            "200 9134\n"
          ],
          "name": "stdout"
        }
      ]
    },
    {
      "cell_type": "markdown",
      "metadata": {
        "id": "BoiQjQUWN9mR"
      },
      "source": [
        "## koNLPy 패키지 - 여러 모듈 비교"
      ]
    },
    {
      "cell_type": "code",
      "metadata": {
        "colab": {
          "base_uri": "https://localhost:8080/"
        },
        "id": "yBHLAWxo6cPL",
        "outputId": "df2f2869-b523-40a6-ad64-7d8c70cf1e2c"
      },
      "source": [
        "# 꼬꼬마모듈 : 다른 분석기에 비해 분석 시간이 가장 오래 소요됨\n",
        "from konlpy.tag import Kkma\n",
        "kkma = Kkma()\n",
        "start = time.time()\n",
        "print('#### konlpy Kkma')\n",
        "print('구문분석 :',kkma.sentences(my_text)[:10])  # 문장 분석\n",
        "print('명사분석 :',kkma.nouns(my_text)[:10]) # 명사 분석\n",
        "print('형태소-품사',kkma.pos(my_text)[:10]) # 형태소 : 품사 부착\n",
        "end = time.time()\n",
        "print('문장수:',len(reply_text),'문자수:',len(my_text),'소요시간:',end-start)\n",
        "print('\\n')\n",
        "\n",
        "#한나눔모듈 : 결과에 대한 품질이 문장에 따라 차이가 큼(너무 잘게 분석하거나 아예 분석을 못함)\n",
        "from konlpy.tag import Hannanum\n",
        "han = Hannanum()\n",
        "start = time.time()\n",
        "print('#### konlpy Hannanum')\n",
        "print('명사분석 :',han.nouns(my_text)[:10]) # 명사 분석\n",
        "print('형태소분석 : ',han.morphs(my_text)[:10]) # 형태소\n",
        "print('형태소-품사',han.pos(my_text)[:10]) # 형태소 : 품사 부착\n",
        "end = time.time()\n",
        "print('문장수:',len(reply_text),'문자수:',len(my_text),'소요시간:',end-start)\n",
        "print('\\n')\n",
        "\n",
        "# open korean text : 단어 클라우드 분석에 활용하는 경우 가장 적합\n",
        "from konlpy.tag import Okt\n",
        "t = Okt()\n",
        "start = time.time()\n",
        "print('#### konlpy kkma')\n",
        "print('명사분석 :',t.nouns(my_text)[:10]) # 명사분석\n",
        "print('형태소분석 : ',t.morphs(my_text)[:10]) # 형태소 분석\n",
        "print('형태소-품사',t.pos(my_text)[:10]) # 형태소-품사 부착\n",
        "end = time.time()\n",
        "print('문장수:',len(reply_text),'문자수:',len(my_text),'소요시간:',end-start)\n",
        "print('\\n')\n",
        "\n",
        "# komoran ; 자소 분리나 오탈자에 대해서도 어느 정도 분석 품질이 좋음\n",
        "from konlpy.tag import Komoran\n",
        "k = Komoran()\n",
        "start = time.time()\n",
        "print('#### konlpy Komoran')\n",
        "print('명사분석 :',k.nouns(my_text)[:10])\n",
        "print('형태소분석 : ',k.morphs(my_text)[:10])\n",
        "print('형태소-품사',k.pos(my_text)[:10])\n",
        "end = time.time()\n",
        "print('문장수:',len(reply_text),'문자수:',len(my_text),'소요시간:',end-start)\n",
        "print('\\n')"
      ],
      "execution_count": 78,
      "outputs": [
        {
          "output_type": "stream",
          "text": [
            "#### konlpy Kkma\n",
            "구문분석 : ['휴잭맨의. 매력이 한껏 돋보인 영화입니다.', '다른 출연자들도 너무 멋지구요.', '사람은 누구나 소중하며, 현재를 멋지게 사는 게 중요 하다는 메세지도 있구요.', '좋았습니다', '정말 인생 최고의 영화!!!! 너무 좋아서 울컥 하고 남들 없었음 ㅠ 기립 박수 칠 뻔!! 강추! 노래 진짜 쩐다', 'ㅠㅠㅠ 보는 내내 귀 호강 ! 그리고 배우 분들 연기 다 너무 좋아서 올해 마무리 영화로 딱 인 듯합니다', '시작한 지 얼마 안되어서 부터 꿈을 얘기하는데 듣다 보면 눈물이 난다.', '그 꿈이 허황되기 때문일까 쉽게 꿈꿀 수 없는 그 꿈이 아름답기 때문일까.', '생각보다 묵직한 음악으로의 시작이라 좋았고 처음 들어보는 잭 에프론의 목... 좀 뻔한 전개 스토리 이긴 하지만 아주 재밌게 봤고 감동적이었습니다.', '실화 영화인 것을 생각하니 더욱 좋았습니다.']\n",
            "명사분석 : ['휴잭맨', '매력', '영화', '출연자', '사람', '누구', '현재', '중요', '중요하다', '하다']\n",
            "형태소-품사 [('휴잭맨', 'UN'), ('의', 'JKG'), ('.', 'SF'), ('매력', 'NNG'), ('이', 'JKS'), ('한껏', 'MAG'), ('돋보이', 'VV'), ('ㄴ', 'ETD'), ('영화', 'NNG'), ('이', 'VCP')]\n",
            "문장수: 100 문자수: 9134 소요시간: 30.54080867767334\n",
            "\n",
            "\n",
            "#### konlpy Hannanum\n",
            "명사분석 : ['휴잭맨', '매력', '영화', '출연자들', '멋지구요', '사람', '누구', '소중', '현재', '중요']\n",
            "형태소분석 :  ['휴잭맨', '의', '.', '매력', '이', '한껏', '돋보이', 'ㄴ', '영화', '이']\n",
            "형태소-품사 [('휴잭맨', 'N'), ('의', 'J'), ('.', 'S'), ('매력', 'N'), ('이', 'J'), ('한껏', 'M'), ('돋보이', 'P'), ('ㄴ', 'E'), ('영화', 'N'), ('이', 'J')]\n",
            "문장수: 100 문자수: 9134 소요시간: 6.256990671157837\n",
            "\n",
            "\n",
            "#### konlpy kkma\n",
            "명사분석 : ['휴잭맨', '매력', '영화', '다른', '출연자', '사람', '누구', '현재', '메세지', '정말']\n",
            "형태소분석 :  ['휴잭맨', '의', '.', '매력', '이', '한껏', '돋보인', '영화', '입니다', '.']\n",
            "형태소-품사 [('휴잭맨', 'Noun'), ('의', 'Josa'), ('.', 'Punctuation'), ('매력', 'Noun'), ('이', 'Josa'), ('한껏', 'Adverb'), ('돋보인', 'Verb'), ('영화', 'Noun'), ('입니다', 'Adjective'), ('.', 'Punctuation')]\n",
            "문장수: 100 문자수: 9134 소요시간: 2.7279088497161865\n",
            "\n",
            "\n",
            "#### konlpy Komoran\n",
            "명사분석 : ['휴', '잭', '맨', '매력', '영화', '출연자', '사람', '현재', '메세지', '인생']\n",
            "형태소분석 :  ['휴', '잭', '맨', '의', '.', '매력', '이', '한껏', '돋보이', 'ㄴ']\n",
            "형태소-품사 [('휴', 'NNP'), ('잭', 'NNP'), ('맨', 'NNP'), ('의', 'JKG'), ('.', 'SF'), ('매력', 'NNP'), ('이', 'JKS'), ('한껏', 'MAG'), ('돋보이', 'VV'), ('ㄴ', 'ETM')]\n",
            "문장수: 100 문자수: 9134 소요시간: 2.8291256427764893\n",
            "\n",
            "\n"
          ],
          "name": "stdout"
        }
      ]
    },
    {
      "cell_type": "markdown",
      "metadata": {
        "id": "uSoITHffNuDt"
      },
      "source": [
        "### 형태소분석 : koNLPy - Okt 패키지 사용"
      ]
    },
    {
      "cell_type": "code",
      "metadata": {
        "colab": {
          "base_uri": "https://localhost:8080/"
        },
        "id": "hO7Jlqou3Bqz",
        "outputId": "854ffdd2-3d96-4aeb-8fca-33888093b828"
      },
      "source": [
        "########################################################\n",
        "# 형태소분석(koNLPy)\n",
        "'''\n",
        "크롤링한 댓글파일을 불러와서 변수에 저장\n",
        "'''\n",
        "from konlpy.tag import Okt\n",
        "ok_twitter = Okt()\n",
        "\n",
        "#data_load\n",
        "url='https://raw.githubusercontent.com/kiakass/share/master/naver_movie.txt'\n",
        "load = requests.get(url)\n",
        "total_lines=load.text.split('\\n')\n",
        "\n",
        "#개행문자제거\n",
        "reply_text=[]\n",
        "for line in total_lines[:100]:\n",
        "    reply_text.append(line[:-1])\n",
        "\n",
        "# 형태소분석\n",
        "sentences_tag=[]\n",
        "for sentence in reply_text:\n",
        "    morph = ok_twitter.pos(sentence)\n",
        "    sentences_tag.append(morph)\n",
        "    #print('-'*30)\n",
        "\n",
        "# 명사추출\n",
        "for my_sentence in sentences_tag:\n",
        "    for word , tag in my_sentence:\n",
        "        if tag in ['Noun']:\n",
        "            #print(word)\n",
        "            bucket_list.append(word)\n",
        "\n",
        "print(bucket_list[:20])"
      ],
      "execution_count": 80,
      "outputs": [
        {
          "output_type": "stream",
          "text": [
            "['올라프', '편', '요약', '기', '맥힙', '크리스토퍼', '뮤비', '좀', '흠칫', '함', '미래', '보이지', '때', '지금', '일', '해', '나', '개인', '편이', '더']\n"
          ],
          "name": "stdout"
        }
      ]
    },
    {
      "cell_type": "markdown",
      "metadata": {
        "id": "Kw4GqYwoOMZg"
      },
      "source": [
        "### 품사 빈도 Count"
      ]
    },
    {
      "cell_type": "code",
      "metadata": {
        "colab": {
          "base_uri": "https://localhost:8080/"
        },
        "id": "6t31OXAr3EBH",
        "outputId": "13fef9fa-63a6-427c-e720-1c28c0a73d00"
      },
      "source": [
        "from collections import Counter\n",
        "\n",
        "#각 원소의 출현 횟수를 계산하는 Counter 모듈을 활용한다.\n",
        "counts = Counter( bucket_list)\n",
        "print(counts.most_common(5))\n",
        "\n",
        "#명사와 형용사를 모두 추출하고, 빈도 순서대로 상위 50개를 출력해봅시다.\n",
        "bucket_list = []\n",
        "for my_sentence in sentences_tag:\n",
        "    for word , tag in my_sentence:\n",
        "        if tag in ['Noun','Adjective']:\n",
        "            bucket_list.append(word)\n",
        "\n",
        "counts = Counter( bucket_list)\n",
        "print(np.array(counts.most_common(50)).reshape(-1,2))"
      ],
      "execution_count": 82,
      "outputs": [
        {
          "output_type": "stream",
          "text": [
            "[('스토리', 32), ('영화', 23), ('노래', 23), ('엘사', 21), ('편', 19)]\n",
            "[['스토리' '32']\n",
            " ['영화' '23']\n",
            " ['노래' '23']\n",
            " ['엘사' '21']\n",
            " ['편' '19']\n",
            " ['더' '15']\n",
            " ['겨울왕국' '13']\n",
            " ['때' '12']\n",
            " ['상미' '12']\n",
            " ['보고' '10']\n",
            " ['느낌' '10']\n",
            " ['것' '10']\n",
            " ['입니다' '9']\n",
            " ['전편' '9']\n",
            " ['올라프' '8']\n",
            " ['디즈니' '8']\n",
            " ['정말' '8']\n",
            " ['개연' '7']\n",
            " ['편이' '6']\n",
            " ['한번' '6']\n",
            " ['장면' '6']\n",
            " ['진짜' '6']\n",
            " ['역시' '6']\n",
            " ['생각' '6']\n",
            " ['영상' '6']\n",
            " ['건' '6']\n",
            " ['음악' '6']\n",
            " ['볼' '5']\n",
            " ['렛잇고' '5']\n",
            " ['이' '5']\n",
            " ['감동' '5']\n",
            " ['말' '5']\n",
            " ['같아요' '5']\n",
            " ['없고' '5']\n",
            " ['없음' '5']\n",
            " ['이해' '5']\n",
            " ['기대' '5']\n",
            " ['전개' '5']\n",
            " ['솔직히' '5']\n",
            " ['별로' '5']\n",
            " ['중간' '5']\n",
            " ['좀' '4']\n",
            " ['재미' '4']\n",
            " ['하나' '4']\n",
            " ['최고' '4']\n",
            " ['또' '4']\n",
            " ['귀' '4']\n",
            " ['수' '4']\n",
            " ['포인트' '4']\n",
            " ['부분' '4']]\n"
          ],
          "name": "stdout"
        }
      ]
    },
    {
      "cell_type": "code",
      "metadata": {
        "id": "htEV05ymKM1K"
      },
      "source": [
        ""
      ],
      "execution_count": null,
      "outputs": []
    }
  ]
}